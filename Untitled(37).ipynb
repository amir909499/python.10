{
 "cells": [
  {
   "cell_type": "code",
   "execution_count": 6,
   "id": "f97f0ca0-5c86-4f87-8598-9a0ec43fbade",
   "metadata": {},
   "outputs": [
    {
     "name": "stdout",
     "output_type": "stream",
     "text": [
      "a bzorgter\n"
     ]
    }
   ],
   "source": [
    "a=20\n",
    "b=19\n",
    "if a>b:\n",
    "    print(\"a bzorgter\")\n",
    "elif a==b:\n",
    "    print(\"aa\")\n",
    "\n",
    "else:\n",
    "    print(\"a bzorgter b\")"
   ]
  },
  {
   "cell_type": "code",
   "execution_count": null,
   "id": "7d176637-9a9a-464a-9268-b72dc86ab8cc",
   "metadata": {},
   "outputs": [],
   "source": []
  }
 ],
 "metadata": {
  "kernelspec": {
   "display_name": "Python 3 (ipykernel)",
   "language": "python",
   "name": "python3"
  },
  "language_info": {
   "codemirror_mode": {
    "name": "ipython",
    "version": 3
   },
   "file_extension": ".py",
   "mimetype": "text/x-python",
   "name": "python",
   "nbconvert_exporter": "python",
   "pygments_lexer": "ipython3",
   "version": "3.8.1"
  }
 },
 "nbformat": 4,
 "nbformat_minor": 5
}
