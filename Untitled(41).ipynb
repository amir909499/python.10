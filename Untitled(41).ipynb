{
 "cells": [
  {
   "cell_type": "code",
   "execution_count": 20,
   "id": "866aa9a6-5e60-41a5-8e98-8dd308f49f33",
   "metadata": {},
   "outputs": [
    {
     "name": "stdout",
     "output_type": "stream",
     "text": [
      "a b c d e f g h i j \n"
     ]
    }
   ],
   "source": [
    "a=\"a b c d e f g h i j k l m n o p q r s t u v w x y z\"\n",
    "print(a[:20])"
   ]
  },
  {
   "cell_type": "code",
   "execution_count": null,
   "id": "b7ab4567-6c72-406c-a115-011e8b282cfc",
   "metadata": {},
   "outputs": [],
   "source": []
  }
 ],
 "metadata": {
  "kernelspec": {
   "display_name": "Python 3 (ipykernel)",
   "language": "python",
   "name": "python3"
  },
  "language_info": {
   "codemirror_mode": {
    "name": "ipython",
    "version": 3
   },
   "file_extension": ".py",
   "mimetype": "text/x-python",
   "name": "python",
   "nbconvert_exporter": "python",
   "pygments_lexer": "ipython3",
   "version": "3.8.1"
  }
 },
 "nbformat": 4,
 "nbformat_minor": 5
}
