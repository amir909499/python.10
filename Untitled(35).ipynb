{
 "cells": [
  {
   "cell_type": "code",
   "execution_count": 3,
   "id": "4314fdad-d920-4261-97fd-16bcc43e198f",
   "metadata": {},
   "outputs": [],
   "source": [
    "def a(t,h):\n",
    "    c=((t+h)-t)/h\n",
    "    return c"
   ]
  },
  {
   "cell_type": "code",
   "execution_count": 4,
   "id": "eb013352-c165-46f3-8a13-809006bf899c",
   "metadata": {},
   "outputs": [
    {
     "data": {
      "text/plain": [
       "1.0"
      ]
     },
     "execution_count": 4,
     "metadata": {},
     "output_type": "execute_result"
    }
   ],
   "source": [
    "a(20,19)"
   ]
  },
  {
   "cell_type": "code",
   "execution_count": null,
   "id": "0ee32410-a7da-4620-9b7f-9043fbb57b77",
   "metadata": {},
   "outputs": [],
   "source": []
  }
 ],
 "metadata": {
  "kernelspec": {
   "display_name": "Python 3 (ipykernel)",
   "language": "python",
   "name": "python3"
  },
  "language_info": {
   "codemirror_mode": {
    "name": "ipython",
    "version": 3
   },
   "file_extension": ".py",
   "mimetype": "text/x-python",
   "name": "python",
   "nbconvert_exporter": "python",
   "pygments_lexer": "ipython3",
   "version": "3.8.1"
  }
 },
 "nbformat": 4,
 "nbformat_minor": 5
}
