{
 "cells": [
  {
   "cell_type": "code",
   "execution_count": 32,
   "id": "34420977-d331-4c1a-9eb1-1a17985c539f",
   "metadata": {},
   "outputs": [
    {
     "name": "stdout",
     "output_type": "stream",
     "text": [
      "amir\n",
      "raf\n"
     ]
    }
   ],
   "source": [
    "a=[\"amir\",\"raf\",\"19\"]\n",
    "for i in a:\n",
    "    print(i)\n",
    "    if i==\"raf\":\n",
    "         break"
   ]
  },
  {
   "cell_type": "code",
   "execution_count": null,
   "id": "7a7713fe-b378-4e6e-b69f-4e0e955c4d23",
   "metadata": {},
   "outputs": [],
   "source": []
  }
 ],
 "metadata": {
  "kernelspec": {
   "display_name": "Python 3 (ipykernel)",
   "language": "python",
   "name": "python3"
  },
  "language_info": {
   "codemirror_mode": {
    "name": "ipython",
    "version": 3
   },
   "file_extension": ".py",
   "mimetype": "text/x-python",
   "name": "python",
   "nbconvert_exporter": "python",
   "pygments_lexer": "ipython3",
   "version": "3.8.1"
  }
 },
 "nbformat": 4,
 "nbformat_minor": 5
}
